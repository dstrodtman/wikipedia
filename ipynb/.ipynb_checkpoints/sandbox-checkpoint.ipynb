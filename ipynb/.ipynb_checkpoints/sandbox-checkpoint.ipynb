{
 "cells": [
  {
   "cell_type": "code",
   "execution_count": 1,
   "metadata": {},
   "outputs": [],
   "source": [
    "import re\n",
    "import requests\n",
    "import pandas as pd\n",
    "import numpy as np\n",
    "# from sys import argv\n",
    "from collections import deque"
   ]
  },
  {
   "cell_type": "code",
   "execution_count": 2,
   "metadata": {},
   "outputs": [
    {
     "name": "stdout",
     "output_type": "stream",
     "text": [
      "/home/jovyan/dsi_projects/project4\n"
     ]
    }
   ],
   "source": [
    "cd .."
   ]
  },
  {
   "cell_type": "code",
   "execution_count": 4,
   "metadata": {},
   "outputs": [],
   "source": [
    "from lib.helpers.download import clean_name"
   ]
  },
  {
   "cell_type": "code",
   "execution_count": 7,
   "metadata": {},
   "outputs": [
    {
     "data": {
      "text/plain": [
       "'foo_all'"
      ]
     },
     "execution_count": 7,
     "metadata": {},
     "output_type": "execute_result"
    }
   ],
   "source": [
    "clean_name('foo all')"
   ]
  },
  {
   "cell_type": "code",
   "execution_count": null,
   "metadata": {},
   "outputs": [],
   "source": []
  },
  {
   "cell_type": "code",
   "execution_count": 1,
   "metadata": {},
   "outputs": [],
   "source": [
    "import lib.helper"
   ]
  },
  {
   "cell_type": "code",
   "execution_count": 8,
   "metadata": {},
   "outputs": [],
   "source": [
    "foo = 'Filebar.test'"
   ]
  },
  {
   "cell_type": "code",
   "execution_count": 9,
   "metadata": {},
   "outputs": [
    {
     "name": "stdout",
     "output_type": "stream",
     "text": [
      "yes\n"
     ]
    }
   ],
   "source": [
    "if foo.count(':') < 1:\n",
    "    print('yes')"
   ]
  },
  {
   "cell_type": "code",
   "execution_count": 4,
   "metadata": {},
   "outputs": [],
   "source": [
    "argv = ['get_category.py', 'Machine', 'learning'] "
   ]
  },
  {
   "cell_type": "code",
   "execution_count": 8,
   "metadata": {},
   "outputs": [],
   "source": [
    "if len(argv) == 1:\n",
    "    raise('Please pass a valid wikipedia category name')\n",
    "\n",
    "cat_arg = '_'.join(str(argv)[1:])\n",
    "\n",
    "cat_q = set(cat_arg)\n",
    "page_dict = {}"
   ]
  },
  {
   "cell_type": "code",
   "execution_count": 9,
   "metadata": {},
   "outputs": [
    {
     "data": {
      "text/plain": [
       "\"'_g_e_t___c_a_t_e_g_o_r_y_._p_y_'_,_ _'_M_a_c_h_i_n_e_'_,_ _'_l_e_a_r_n_i_n_g_'_]\""
      ]
     },
     "execution_count": 9,
     "metadata": {},
     "output_type": "execute_result"
    }
   ],
   "source": [
    "cat_arg"
   ]
  },
  {
   "cell_type": "code",
   "execution_count": 2,
   "metadata": {},
   "outputs": [],
   "source": [
    "def crawl_pages(cat_q, page_dict):\n",
    "    cat = cat_q.pop()\n",
    "    r = requests.get('http://en.wikipedia.org/w/api.php?action=query&format=json&\\\n",
    "                      list=categorymembers&cmtitle=Category%3A{}&cmlimit=max'.format(cat))\n",
    "\n",
    "    if r.status_code != 200:\n",
    "        raise('Status error when getting {}'.format(cat))\n",
    "\n",
    "    r_df = pd.DataFrame(r.json()['query']['categorymembers'])\n",
    "\n",
    "    r_df.title.apply(lambda x: re.sub('\\s', '_', x))\n",
    "\n",
    "    category_mask = r_df.title.str.contains('Category:')\n",
    "    \n",
    "    for category in r_df[category_mask]:\n",
    "        cat_q.add(category)\n",
    "    \n",
    "    for page in r_df[~category_mask]:\n",
    "        try: \n",
    "            page_dict[page]+cat\n",
    "        except:\n",
    "            page_dict[page] = [cat]\n",
    "\n",
    "    return cat_q, page_dict"
   ]
  },
  {
   "cell_type": "code",
   "execution_count": null,
   "metadata": {},
   "outputs": [],
   "source": [
    "while cat_q:\n",
    "    cat_q, page_dict = crawl_pages(cat_q, page_dict)\n",
    "\n",
    "df = pd.DataFrame(page_dict)\n",
    "df.to_csv('{}_pages'.format(cat_arg))"
   ]
  },
  {
   "cell_type": "code",
   "execution_count": 37,
   "metadata": {},
   "outputs": [],
   "source": [
    "r = requests.get(\"http://en.wikipedia.org/w/api.php?action=query&\\\n",
    "                  format=json&prop=revisions&titles=Grammatical_evolution&rvprop=content\")"
   ]
  },
  {
   "cell_type": "code",
   "execution_count": 38,
   "metadata": {},
   "outputs": [
    {
     "data": {
      "text/plain": [
       "200"
      ]
     },
     "execution_count": 38,
     "metadata": {},
     "output_type": "execute_result"
    }
   ],
   "source": [
    "r.status_code"
   ]
  },
  {
   "cell_type": "code",
   "execution_count": 39,
   "metadata": {},
   "outputs": [
    {
     "data": {
      "text/plain": [
       "dict_keys(['batchcomplete', 'query'])"
      ]
     },
     "execution_count": 39,
     "metadata": {},
     "output_type": "execute_result"
    }
   ],
   "source": [
    "r.json().keys()"
   ]
  },
  {
   "cell_type": "code",
   "execution_count": 40,
   "metadata": {},
   "outputs": [
    {
     "data": {
      "text/plain": [
       "dict_keys(['normalized', 'pages'])"
      ]
     },
     "execution_count": 40,
     "metadata": {},
     "output_type": "execute_result"
    }
   ],
   "source": [
    "r.json()['query'].keys()"
   ]
  },
  {
   "cell_type": "code",
   "execution_count": 50,
   "metadata": {},
   "outputs": [
    {
     "data": {
      "text/plain": [
       "'5609640'"
      ]
     },
     "execution_count": 50,
     "metadata": {},
     "output_type": "execute_result"
    }
   ],
   "source": [
    "list(r.json()['query']['pages'].keys())[0]"
   ]
  },
  {
   "cell_type": "code",
   "execution_count": 46,
   "metadata": {},
   "outputs": [],
   "source": [
    "q_key = list(r.json()['query']['pages'].keys())[0]"
   ]
  },
  {
   "cell_type": "code",
   "execution_count": 42,
   "metadata": {},
   "outputs": [
    {
     "data": {
      "text/plain": [
       "'Grammatical evolution'"
      ]
     },
     "execution_count": 42,
     "metadata": {},
     "output_type": "execute_result"
    }
   ],
   "source": [
    "r.json()['query']['normalized'][0]['to']"
   ]
  },
  {
   "cell_type": "code",
   "execution_count": 43,
   "metadata": {},
   "outputs": [
    {
     "data": {
      "text/plain": [
       "'Grammatical evolution'"
      ]
     },
     "execution_count": 43,
     "metadata": {},
     "output_type": "execute_result"
    }
   ],
   "source": [
    "r.json()['query']['pages'][q_key]['title']"
   ]
  },
  {
   "cell_type": "code",
   "execution_count": 44,
   "metadata": {},
   "outputs": [
    {
     "data": {
      "text/plain": [
       "[{'*': '\\'\\'\\'Grammatical evolution\\'\\'\\' is a relatively new [[evolutionary computation]] technique pioneered by Conor Ryan, JJ Collins and Michael O\\'Neill in 1998<ref>http://www.cs.bham.ac.uk/~wbl/biblio/gp-html/ryan_1998_geepal.html</ref> at the [http://bds.ul.ie BDS Group] in the [[University of Limerick]].\\n\\nIt is related to the idea of [[genetic programming]] in that the objective is to find an executable program or program fragment, that will achieve a good fitness value for the given [[objective function]]. In most published work on Genetic Programming, a [[LISP]]-style tree-structured expression is directly manipulated, whereas Grammatical Evolution applies [[genetic operator]]s to an integer string, subsequently mapped to a program (or similar) through the use of a grammar. One of the benefits of GE is that this mapping simplifies the application of search to different programming languages and other structures.\\n\\n== Problem addressed ==\\n\\nIn type-free, conventional [[John Koza|Koza]]-style GP, the function set must meet the requirement of closure: all functions must be capable of accepting as their arguments the output of all other functions in the function set.  Usually, this is implemented by dealing with a single data-type such as double-precision floating point. While modern Genetic Programming frameworks support typing, such type-systems have limitations that Grammatical Evolution does not suffer from.\\n\\n== GE\\'s solution ==\\n\\nGE offers a solution to this {{which|date=January 2015}} issue by evolving solutions according to a user-specified grammar (usually a grammar in [[Backus-Naur form]]). Therefore the search space can be restricted, and domain knowledge of the problem can be incorporated. The inspiration for this approach comes from a desire to separate the \"genotype\" from the \"phenotype\": in GP, the objects the search algorithm operates on and what the fitness evaluation function interprets are one and the same. In contrast, GE\\'s \"genotypes\" are ordered lists of integers which code for selecting rules from the provided context-free grammar. The phenotype, however, is the same as in Koza-style GP: a tree-like structure that is evaluated recursively. This model is more in line with how genetics work in nature, where there is a separation between an organism\\'s genotype and the final expression of phenotype in proteins, etc.\\n\\nGE has a modular approach to it. In particular, the search portion of the GE paradigm needn\\'t be carried out by any one particular algorithm or method. Observe that the objects GE performs search on are the same as that used in [[genetic algorithms]]. This means, in principle, that any existing genetic algorithm package, such as the popular [http://lancet.mit.edu/ga/ GAlib], can be used to carry out the search, and a developer implementing a GE system need only worry about carrying out the mapping from list of integers to program tree. It is also in principle possible to perform the search using some other method, such as [[particle swarm optimization]] (see the remark below); the modular nature of GE creates many opportunities for hybrids as the problem of interest to be solved dictates.\\n\\nBrabazon and O\\'Neill have successfully applied GE to predicting corporate bankruptcy, forecasting stock indices, [[bond credit rating]]s, and other financial applications.{{citation needed|date=January 2015}} GE has also been used with a classic [[predator-prey model]] to explore the impact of parameters such as predator efficiency, niche number, and random mutations on [[ecological stability]].<ref>{{cite journal|last1=Alfonseca|first1=Manuel|last2=Soler Gil|first2=Francisco José|title=Evolving a predator-prey ecosystem of mathematical expressions with grammatical evolution|journal=Complexity|date=2 January 2015|volume=20|issue=3|pages=66–83|doi=10.1002/cplx.21507}}</ref>\\n\\nIt is possible to structure a GE grammar that for a given function/terminal set is equivalent to genetic programming.\\n\\n== Criticism ==\\n\\nDespite its successes, GE has been the subject of some criticism. One issue is that as a result of its mapping operation, GE\\'s genetic operators do not achieve high locality<ref name=\"rothlauf:2006\">http://www.springerlink.com/content/0125627h52766534/</ref><ref>http://www.cs.kent.ac.uk/pubs/2010/3004/index.html</ref> which is a highly regarded property of genetic operators in evolutionary algorithms.<ref name=\"rothlauf:2006\" />\\n\\n== Variants ==\\n\\nAlthough GE is fairly new, there are already enhanced versions and variants that have been worked out. GE researchers have experimented with using [[particle swarm optimization]] to carry out the searching instead of genetic algorithms with results comparable to that of normal GE; this is referred to as a \"grammatical swarm\"; using only the basic PSO model it has been found that PSO is probably equally capable of carrying out the search process in GE as simple genetic algorithms are. (Although PSO is normally a floating-point search paradigm, it can be discretized, e.g., by simply rounding each vector to the nearest integer, for use with GE.)\\n\\nYet another possible variation that has been experimented with in the literature is attempting to encode semantic information in the grammar in order to further bias the search process.\\n\\n==See also==\\n* [[Genetic programming]]\\n* [[Java Grammatical Evolution]]\\n\\n==Notes==\\n\\n<references/>\\n\\n=== Resources ===\\n\\n* [https://web.archive.org/web/20110721124315/http://www.grammaticalevolution.org/tutorial.pdf Grammatical Evolution Tutorial].\\n* [http://ncra.ucd.ie/geva Grammatical Evolution in Java].\\n* [https://web.archive.org/web/20101129085227/http://www.bangor.ac.uk/~eep201/jge/ jGE - Java Grammatical Evolution].\\n* [http://bds.ul.ie The Biocomputing and Developmental Systems (BDS) Group] at the [http://www.ul.ie University of Limerick].\\n* [http://www.grammatical-evolution.org Michael O\\'Neill\\'s Grammatical Evolution Page], including a bibliography.\\n* [http://drp.rubyforge.org/ DRP], Directed Ruby Programming, is an experimental system designed to let users create hybrid GE/GP systems. It is implemented in pure Ruby.\\n* [http://geret.org/ GERET], Grammatical Evolution Ruby Exploratory Toolkit.\\n* [https://cran.r-project.org/web/packages/gramEvol/index.html gramEvol], Grammatical Evolution for [[R (programming language)|R]].\\n\\n{{DEFAULTSORT:Grammatical Evolution}}\\n[[Category:Evolutionary algorithms]]',\n",
       "  'contentformat': 'text/x-wiki',\n",
       "  'contentmodel': 'wikitext'}]"
      ]
     },
     "execution_count": 44,
     "metadata": {},
     "output_type": "execute_result"
    }
   ],
   "source": [
    "r.json()['query']['pages'][q_key]['revisions']"
   ]
  },
  {
   "cell_type": "code",
   "execution_count": null,
   "metadata": {},
   "outputs": [],
   "source": [
    "r = requests.get('http://en.wikipedia.org/w/api.php?action=query&format=json&list=categorymembers&cmtitle=Category%3A+machine+learning&cmlimit=max')\n",
    "\n",
    "type(r)\n",
    "\n",
    "r.status_code # 200 means it worked!\n",
    "\n",
    "r.json().keys()\n",
    "\n",
    "r.json()['query'].keys()\n",
    "\n",
    "cat_df = pd.DataFrame(r.json()['query']['categorymembers'])\n",
    "\n",
    "cat_df[cat_df.title.str.contains('Category:')]"
   ]
  },
  {
   "cell_type": "code",
   "execution_count": 24,
   "metadata": {},
   "outputs": [],
   "source": [
    "n = 4\n",
    "ar = [3, 2, 1, 3]"
   ]
  },
  {
   "cell_type": "code",
   "execution_count": 26,
   "metadata": {},
   "outputs": [],
   "source": [
    "def birthdayCakeCandles(n, ar):\n",
    "    ar.sort()\n",
    "    print(ar.count(ar[-1]))"
   ]
  },
  {
   "cell_type": "code",
   "execution_count": 27,
   "metadata": {},
   "outputs": [
    {
     "name": "stdout",
     "output_type": "stream",
     "text": [
      "2\n"
     ]
    }
   ],
   "source": [
    "birthdayCakeCandles(n, ar)"
   ]
  },
  {
   "cell_type": "code",
   "execution_count": 29,
   "metadata": {},
   "outputs": [
    {
     "data": {
      "text/plain": [
       "3"
      ]
     },
     "execution_count": 29,
     "metadata": {},
     "output_type": "execute_result"
    }
   ],
   "source": [
    "ar[-2]"
   ]
  },
  {
   "cell_type": "code",
   "execution_count": null,
   "metadata": {},
   "outputs": [],
   "source": []
  }
 ],
 "metadata": {
  "kernelspec": {
   "display_name": "Python 3",
   "language": "python",
   "name": "python3"
  },
  "language_info": {
   "codemirror_mode": {
    "name": "ipython",
    "version": 3
   },
   "file_extension": ".py",
   "mimetype": "text/x-python",
   "name": "python",
   "nbconvert_exporter": "python",
   "pygments_lexer": "ipython3",
   "version": "3.6.2"
  }
 },
 "nbformat": 4,
 "nbformat_minor": 2
}
