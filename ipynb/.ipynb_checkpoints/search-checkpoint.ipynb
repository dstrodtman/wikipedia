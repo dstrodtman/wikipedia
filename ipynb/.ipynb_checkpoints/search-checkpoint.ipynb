{
 "cells": [
  {
   "cell_type": "code",
   "execution_count": 2,
   "metadata": {},
   "outputs": [],
   "source": [
    "from sklearn.feature_extraction.text import TfidfVectorizer\n",
    "import pymongo\n",
    "import pandas as pd\n",
    "import numpy as np\n",
    "import re\n",
    "from sklearn.decomposition import TruncatedSVD\n",
    "from bs4 import BeautifulSoup\n",
    "from sklearn.feature_extraction.text import ENGLISH_STOP_WORDS\n",
    "from sklearn.metrics.pairwise import cosine_similarity\n",
    "import pickle"
   ]
  },
  {
   "cell_type": "code",
   "execution_count": 3,
   "metadata": {},
   "outputs": [],
   "source": [
    "tfidf_vectorizer = pickle.load(open('../data/tfidf_vectorizer.pkl', 'rb'))\n",
    "SVD = pickle.load(open('../data/SVD.pkl', 'rb'))\n",
    "svd_matrix = pickle.load(open('../data/svd_matrix.pkl', 'rb'))\n",
    "lsa_df = pd.read_pickle('../data/lsa_df.pkl')"
   ]
  },
  {
   "cell_type": "code",
   "execution_count": 7,
   "metadata": {},
   "outputs": [],
   "source": [
    "search_term = 'accounting software microsoft office'"
   ]
  },
  {
   "cell_type": "code",
   "execution_count": 11,
   "metadata": {},
   "outputs": [],
   "source": [
    "def search(search_term,\n",
    "           tfidf_vectorizer = tfidf_vectorizer,\n",
    "           SVD = SVD,\n",
    "           svd_matrix = svd_matrix,\n",
    "           lsa_df = lsa_df):\n",
    "\n",
    "    search_vec = tfidf_vectorizer.transform([search_term])\n",
    "\n",
    "    search_vec = SVD.transform(search_vec)\n",
    "\n",
    "    search_results = lsa_df[['category']].copy()\n",
    "\n",
    "    search_results['cos_sim'] = cosine_similarity(svd_matrix, search_vec)\n",
    "\n",
    "    return search_results.sort_values('cos_sim', ascending=False).head(5)"
   ]
  },
  {
   "cell_type": "code",
   "execution_count": 12,
   "metadata": {},
   "outputs": [
    {
     "data": {
      "text/html": [
       "<div>\n",
       "<table border=\"1\" class=\"dataframe\">\n",
       "  <thead>\n",
       "    <tr style=\"text-align: right;\">\n",
       "      <th></th>\n",
       "      <th>category</th>\n",
       "      <th>cos_sim</th>\n",
       "    </tr>\n",
       "    <tr>\n",
       "      <th>page</th>\n",
       "      <th></th>\n",
       "      <th></th>\n",
       "    </tr>\n",
       "  </thead>\n",
       "  <tbody>\n",
       "    <tr>\n",
       "      <th>Invoiceit</th>\n",
       "      <td>Business software</td>\n",
       "      <td>0.912829</td>\n",
       "    </tr>\n",
       "    <tr>\n",
       "      <th>Productivity_software</th>\n",
       "      <td>Business software</td>\n",
       "      <td>0.663902</td>\n",
       "    </tr>\n",
       "    <tr>\n",
       "      <th>RFQ-hub</th>\n",
       "      <td>Business software</td>\n",
       "      <td>0.657701</td>\n",
       "    </tr>\n",
       "    <tr>\n",
       "      <th>CollaborateCloud</th>\n",
       "      <td>Business software</td>\n",
       "      <td>0.656331</td>\n",
       "    </tr>\n",
       "    <tr>\n",
       "      <th>Comparison_of_email_clients</th>\n",
       "      <td>Business software</td>\n",
       "      <td>0.644922</td>\n",
       "    </tr>\n",
       "  </tbody>\n",
       "</table>\n",
       "</div>"
      ],
      "text/plain": [
       "                                      category   cos_sim\n",
       "page                                                    \n",
       "Invoiceit                    Business software  0.912829\n",
       "Productivity_software        Business software  0.663902\n",
       "RFQ-hub                      Business software  0.657701\n",
       "CollaborateCloud             Business software  0.656331\n",
       "Comparison_of_email_clients  Business software  0.644922"
      ]
     },
     "execution_count": 12,
     "metadata": {},
     "output_type": "execute_result"
    }
   ],
   "source": [
    "search(search_term)"
   ]
  },
  {
   "cell_type": "code",
   "execution_count": 13,
   "metadata": {},
   "outputs": [
    {
     "data": {
      "text/html": [
       "<div>\n",
       "<table border=\"1\" class=\"dataframe\">\n",
       "  <thead>\n",
       "    <tr style=\"text-align: right;\">\n",
       "      <th></th>\n",
       "      <th>category</th>\n",
       "      <th>cos_sim</th>\n",
       "    </tr>\n",
       "    <tr>\n",
       "      <th>page</th>\n",
       "      <th></th>\n",
       "      <th></th>\n",
       "    </tr>\n",
       "  </thead>\n",
       "  <tbody>\n",
       "    <tr>\n",
       "      <th>Evolutionary_algorithm</th>\n",
       "      <td>Machine learning</td>\n",
       "      <td>0.830781</td>\n",
       "    </tr>\n",
       "    <tr>\n",
       "      <th>Inheritance_(genetic_algorithm)</th>\n",
       "      <td>Machine learning</td>\n",
       "      <td>0.801243</td>\n",
       "    </tr>\n",
       "    <tr>\n",
       "      <th>CIML_community_portal</th>\n",
       "      <td>Machine learning</td>\n",
       "      <td>0.799554</td>\n",
       "    </tr>\n",
       "    <tr>\n",
       "      <th>Local_tangent_space_alignment</th>\n",
       "      <td>Machine learning</td>\n",
       "      <td>0.788213</td>\n",
       "    </tr>\n",
       "    <tr>\n",
       "      <th>Portable_Format_for_Analytics</th>\n",
       "      <td>Machine learning</td>\n",
       "      <td>0.712084</td>\n",
       "    </tr>\n",
       "  </tbody>\n",
       "</table>\n",
       "</div>"
      ],
      "text/plain": [
       "                                         category   cos_sim\n",
       "page                                                       \n",
       "Evolutionary_algorithm           Machine learning  0.830781\n",
       "Inheritance_(genetic_algorithm)  Machine learning  0.801243\n",
       "CIML_community_portal            Machine learning  0.799554\n",
       "Local_tangent_space_alignment    Machine learning  0.788213\n",
       "Portable_Format_for_Analytics    Machine learning  0.712084"
      ]
     },
     "execution_count": 13,
     "metadata": {},
     "output_type": "execute_result"
    }
   ],
   "source": [
    "search('linear algebra bayesian markov chain')"
   ]
  },
  {
   "cell_type": "code",
   "execution_count": null,
   "metadata": {},
   "outputs": [],
   "source": []
  }
 ],
 "metadata": {
  "kernelspec": {
   "display_name": "Python 3",
   "language": "python",
   "name": "python3"
  },
  "language_info": {
   "codemirror_mode": {
    "name": "ipython",
    "version": 3
   },
   "file_extension": ".py",
   "mimetype": "text/x-python",
   "name": "python",
   "nbconvert_exporter": "python",
   "pygments_lexer": "ipython3",
   "version": "3.6.2"
  }
 },
 "nbformat": 4,
 "nbformat_minor": 2
}
